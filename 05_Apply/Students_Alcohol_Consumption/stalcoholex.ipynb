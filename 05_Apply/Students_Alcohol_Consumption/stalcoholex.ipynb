{
  "cells": [
    {
      "cell_type": "markdown",
      "metadata": {
        "pycharm": {
          "name": "#%% md\n"
        },
        "id": "ZJyj2CvPXH5W"
      },
      "source": [
        "# Student Alcohol Consumption"
      ]
    },
    {
      "cell_type": "markdown",
      "metadata": {
        "pycharm": {
          "name": "#%% md\n"
        },
        "id": "2kKE74ndXH5Z"
      },
      "source": [
        "### Introduction:\n",
        "\n",
        "This time you will download a dataset from the UCI.\n",
        "\n",
        "### Step 1. Import the necessary libraries"
      ]
    },
    {
      "cell_type": "code",
      "execution_count": 1,
      "metadata": {
        "pycharm": {
          "name": "#%%\n"
        },
        "id": "gRkYoa_hXH5a"
      },
      "outputs": [],
      "source": [
        "import pandas as pd"
      ]
    },
    {
      "cell_type": "markdown",
      "metadata": {
        "pycharm": {
          "name": "#%% md\n"
        },
        "id": "x5pc-kXIXH5b"
      },
      "source": [
        "### Step 2. Import the dataset from this [address](https://raw.githubusercontent.com/thieu1995/csv-files/main/data/pandas/student-mat.csv)."
      ]
    },
    {
      "cell_type": "markdown",
      "metadata": {
        "pycharm": {
          "name": "#%% md\n"
        },
        "id": "CnRJyVMzXH5c"
      },
      "source": [
        "### Step 3. Assign it to a variable called df."
      ]
    },
    {
      "cell_type": "code",
      "execution_count": 3,
      "metadata": {
        "pycharm": {
          "name": "#%%\n"
        },
        "id": "ivYE7_-SXH5d"
      },
      "outputs": [],
      "source": [
        "df = pd.read_csv('student_alcohol.csv')"
      ]
    },
    {
      "cell_type": "markdown",
      "metadata": {
        "pycharm": {
          "name": "#%% md\n"
        },
        "id": "gOqyr9ToXH5d"
      },
      "source": [
        "### Step 4. For the purpose of this exercise slice the dataframe from 'school' until the 'guardian' column"
      ]
    },
    {
      "cell_type": "code",
      "execution_count": 4,
      "metadata": {
        "pycharm": {
          "name": "#%%\n"
        },
        "colab": {
          "base_uri": "https://localhost:8080/"
        },
        "id": "vu0JnLmPXH5d",
        "outputId": "febb324a-de01-4493-f6a1-cee1a95350a2"
      },
      "outputs": [
        {
          "output_type": "stream",
          "name": "stdout",
          "text": [
            "    school sex  age address famsize Pstatus  Medu  Fedu      Mjob      Fjob  \\\n",
            "0       GP   F   18       U     GT3       A     4     4   at_home   teacher   \n",
            "1       GP   F   17       U     GT3       T     1     1   at_home     other   \n",
            "2       GP   F   15       U     LE3       T     1     1   at_home     other   \n",
            "3       GP   F   15       U     GT3       T     4     2    health  services   \n",
            "4       GP   F   16       U     GT3       T     3     3     other     other   \n",
            "..     ...  ..  ...     ...     ...     ...   ...   ...       ...       ...   \n",
            "390     MS   M   20       U     LE3       A     2     2  services  services   \n",
            "391     MS   M   17       U     LE3       T     3     1  services  services   \n",
            "392     MS   M   21       R     GT3       T     1     1     other     other   \n",
            "393     MS   M   18       R     LE3       T     3     2  services     other   \n",
            "394     MS   M   19       U     LE3       T     1     1     other   at_home   \n",
            "\n",
            "     reason guardian  \n",
            "0    course   mother  \n",
            "1    course   father  \n",
            "2     other   mother  \n",
            "3      home   mother  \n",
            "4      home   father  \n",
            "..      ...      ...  \n",
            "390  course    other  \n",
            "391  course   mother  \n",
            "392  course    other  \n",
            "393  course   mother  \n",
            "394  course   father  \n",
            "\n",
            "[395 rows x 12 columns]\n"
          ]
        }
      ],
      "source": [
        "step4 = df.loc[:, 'school':'guardian']\n",
        "print(step4)"
      ]
    },
    {
      "cell_type": "markdown",
      "metadata": {
        "pycharm": {
          "name": "#%% md\n"
        },
        "id": "Q9hwitXSXH5d"
      },
      "source": [
        "### Step 5. Create a lambda function that will capitalize strings."
      ]
    },
    {
      "cell_type": "code",
      "execution_count": 5,
      "metadata": {
        "pycharm": {
          "name": "#%%\n"
        },
        "colab": {
          "base_uri": "https://localhost:8080/"
        },
        "id": "X-NGtERSXH5e",
        "outputId": "bbbb8ac7-59f4-4ce3-e7c7-1c86ddee8546"
      },
      "outputs": [
        {
          "output_type": "stream",
          "name": "stdout",
          "text": [
            "<function <lambda> at 0x79084809ae80>\n"
          ]
        }
      ],
      "source": [
        "step5 = lambda x: x.str.capitalize()\n",
        "print(step5)"
      ]
    },
    {
      "cell_type": "markdown",
      "metadata": {
        "pycharm": {
          "name": "#%% md\n"
        },
        "id": "00VmewWBXH5e"
      },
      "source": [
        "### Step 6. Capitalize both Mjob and Fjob"
      ]
    },
    {
      "cell_type": "code",
      "execution_count": 6,
      "metadata": {
        "pycharm": {
          "name": "#%%\n"
        },
        "colab": {
          "base_uri": "https://localhost:8080/"
        },
        "id": "Yualm2R_XH5f",
        "outputId": "7bc6a551-c9e2-4c12-bcab-50078211aaab"
      },
      "outputs": [
        {
          "output_type": "stream",
          "name": "stdout",
          "text": [
            "         Mjob      Fjob\n",
            "0     At_home   Teacher\n",
            "1     At_home     Other\n",
            "2     At_home     Other\n",
            "3      Health  Services\n",
            "4       Other     Other\n",
            "..        ...       ...\n",
            "390  Services  Services\n",
            "391  Services  Services\n",
            "392     Other     Other\n",
            "393  Services     Other\n",
            "394     Other   At_home\n",
            "\n",
            "[395 rows x 2 columns]\n"
          ]
        }
      ],
      "source": [
        "step6 = df[['Mjob', 'Fjob']].apply(step5)\n",
        "print(step6)"
      ]
    },
    {
      "cell_type": "markdown",
      "metadata": {
        "pycharm": {
          "name": "#%% md\n"
        },
        "id": "T0IhCNxKXH5f"
      },
      "source": [
        "### Step 7. Print the last elements of the data set."
      ]
    },
    {
      "cell_type": "code",
      "execution_count": 7,
      "metadata": {
        "pycharm": {
          "name": "#%%\n"
        },
        "colab": {
          "base_uri": "https://localhost:8080/"
        },
        "id": "zdhR3vUhXH5f",
        "outputId": "2112acf1-c7c2-4787-eca7-4336aca9b4d5"
      },
      "outputs": [
        {
          "output_type": "stream",
          "name": "stdout",
          "text": [
            "    school sex  age address famsize Pstatus  Medu  Fedu      Mjob      Fjob  \\\n",
            "390     MS   M   20       U     LE3       A     2     2  services  services   \n",
            "391     MS   M   17       U     LE3       T     3     1  services  services   \n",
            "392     MS   M   21       R     GT3       T     1     1     other     other   \n",
            "393     MS   M   18       R     LE3       T     3     2  services     other   \n",
            "394     MS   M   19       U     LE3       T     1     1     other   at_home   \n",
            "\n",
            "     ... famrel freetime  goout  Dalc  Walc health absences  G1  G2  G3  \n",
            "390  ...      5        5      4     4     5      4       11   9   9   9  \n",
            "391  ...      2        4      5     3     4      2        3  14  16  16  \n",
            "392  ...      5        5      3     3     3      3        3  10   8   7  \n",
            "393  ...      4        4      1     3     4      5        0  11  12  10  \n",
            "394  ...      3        2      3     3     3      5        5   8   9   9  \n",
            "\n",
            "[5 rows x 33 columns]\n"
          ]
        }
      ],
      "source": [
        "step7 = df.tail()\n",
        "print(step7)"
      ]
    },
    {
      "cell_type": "markdown",
      "metadata": {
        "pycharm": {
          "name": "#%% md\n"
        },
        "id": "lEHQC4X_XH5g"
      },
      "source": [
        "### Step 8. Did you notice the original dataframe is still lowercase? Why is that? Fix it and capitalize Mjob and Fjob."
      ]
    },
    {
      "cell_type": "code",
      "execution_count": 8,
      "metadata": {
        "pycharm": {
          "name": "#%%\n"
        },
        "colab": {
          "base_uri": "https://localhost:8080/"
        },
        "id": "y0Ai0tsjXH5g",
        "outputId": "0cafa430-9e01-4775-d70d-27386012b19c"
      },
      "outputs": [
        {
          "output_type": "stream",
          "name": "stdout",
          "text": [
            "         Mjob      Fjob\n",
            "0     At_home   Teacher\n",
            "1     At_home     Other\n",
            "2     At_home     Other\n",
            "3      Health  Services\n",
            "4       Other     Other\n",
            "..        ...       ...\n",
            "390  Services  Services\n",
            "391  Services  Services\n",
            "392     Other     Other\n",
            "393  Services     Other\n",
            "394     Other   At_home\n",
            "\n",
            "[395 rows x 2 columns]\n"
          ]
        }
      ],
      "source": [
        "df[['Mjob', 'Fjob']] = df[['Mjob', 'Fjob']].apply(step5)\n",
        "step8 = df[['Mjob', 'Fjob']]\n",
        "print(step8)"
      ]
    },
    {
      "cell_type": "markdown",
      "metadata": {
        "pycharm": {
          "name": "#%% md\n"
        },
        "id": "b85a2asgXH5g"
      },
      "source": [
        "### Step 9. Create a function called majority that returns a boolean value to a new column called legal_drinker (Consider majority as older than 17 years old)"
      ]
    },
    {
      "cell_type": "code",
      "execution_count": 9,
      "metadata": {
        "pycharm": {
          "name": "#%%\n"
        },
        "colab": {
          "base_uri": "https://localhost:8080/"
        },
        "id": "D2Zn8-BcXH5g",
        "outputId": "17de261f-0078-4760-86a2-7c46405d9f3a"
      },
      "outputs": [
        {
          "output_type": "stream",
          "name": "stdout",
          "text": [
            "     age  legal_drinker\n",
            "0     18           True\n",
            "1     17          False\n",
            "2     15          False\n",
            "3     15          False\n",
            "4     16          False\n",
            "..   ...            ...\n",
            "390   20           True\n",
            "391   17          False\n",
            "392   21           True\n",
            "393   18           True\n",
            "394   19           True\n",
            "\n",
            "[395 rows x 2 columns]\n"
          ]
        }
      ],
      "source": [
        "def majority(age):\n",
        "    return age > 17\n",
        "\n",
        "df['legal_drinker'] = df['age'].apply(majority)\n",
        "step9 = df[['age', 'legal_drinker']]\n",
        "print(step9)"
      ]
    },
    {
      "cell_type": "markdown",
      "metadata": {
        "pycharm": {
          "name": "#%% md\n"
        },
        "id": "xFb2_-yIXH5h"
      },
      "source": [
        "### Step 10. Multiply every number of the dataset by 10.\n",
        "##### I know this makes no sense, don't forget it is just an exercise"
      ]
    },
    {
      "cell_type": "code",
      "execution_count": 10,
      "metadata": {
        "pycharm": {
          "name": "#%%\n"
        },
        "colab": {
          "base_uri": "https://localhost:8080/"
        },
        "id": "tYezxXJtXH5h",
        "outputId": "d8d46cf4-5135-4913-ff83-be3aebda2dd3"
      },
      "outputs": [
        {
          "output_type": "stream",
          "name": "stdout",
          "text": [
            "     age  Medu  Fedu  traveltime  studytime  failures  famrel  freetime  \\\n",
            "0    180    40    40          20         20         0      40        30   \n",
            "1    170    10    10          10         20         0      50        30   \n",
            "2    150    10    10          10         20        30      40        30   \n",
            "3    150    40    20          10         30         0      30        20   \n",
            "4    160    30    30          10         20         0      40        30   \n",
            "..   ...   ...   ...         ...        ...       ...     ...       ...   \n",
            "390  200    20    20          10         20        20      50        50   \n",
            "391  170    30    10          20         10         0      20        40   \n",
            "392  210    10    10          10         10        30      50        50   \n",
            "393  180    30    20          30         10         0      40        40   \n",
            "394  190    10    10          10         10         0      30        20   \n",
            "\n",
            "     goout  Dalc  Walc  health  absences   G1   G2   G3  \n",
            "0       40    10    10      30        60   50   60   60  \n",
            "1       30    10    10      30        40   50   50   60  \n",
            "2       20    20    30      30       100   70   80  100  \n",
            "3       20    10    10      50        20  150  140  150  \n",
            "4       20    10    20      50        40   60  100  100  \n",
            "..     ...   ...   ...     ...       ...  ...  ...  ...  \n",
            "390     40    40    50      40       110   90   90   90  \n",
            "391     50    30    40      20        30  140  160  160  \n",
            "392     30    30    30      30        30  100   80   70  \n",
            "393     10    30    40      50         0  110  120  100  \n",
            "394     30    30    30      50        50   80   90   90  \n",
            "\n",
            "[395 rows x 16 columns]\n"
          ]
        }
      ],
      "source": [
        "step10 = df.select_dtypes(include=['int64', 'float64']) * 10\n",
        "print(step10)"
      ]
    }
  ],
  "metadata": {
    "anaconda-cloud": {},
    "kernelspec": {
      "display_name": "Python [default]",
      "language": "python",
      "name": "python2"
    },
    "language_info": {
      "codemirror_mode": {
        "name": "ipython",
        "version": 2
      },
      "file_extension": ".py",
      "mimetype": "text/x-python",
      "name": "python",
      "nbconvert_exporter": "python",
      "pygments_lexer": "ipython2",
      "version": "2.7.12"
    },
    "colab": {
      "provenance": []
    }
  },
  "nbformat": 4,
  "nbformat_minor": 0
}